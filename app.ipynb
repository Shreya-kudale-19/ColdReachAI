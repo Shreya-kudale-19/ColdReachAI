# Preview: ColdReachAI app.ipynb

This notebook demonstrates how to set up and use multiple AI-based sales agents to generate cold sales emails for a SaaS compliance tool, using both SendGrid for email delivery and Gemini API for AI models.

---

## 1. Environment Setup

- **SendGrid**: Used for sending emails. Requires API key and sender verification.
- **Gemini (Google AI)**: Used for generating email content via OpenAI-compatible API.

```python
from dotenv import load_dotenv
import os

# Load environment variables (SENDGRID_API_KEY, GOOGLE_API_KEY)
load_dotenv(override=True)
sendgrid_api_key = os.getenv("SENDGRID_API_KEY")
google_api_key = os.getenv('GOOGLE_API_KEY')
```

---

## 2. SendGrid API Key Check

```python
if sendgrid_api_key:
    print("got the sendgrid_api_key")
else:
    print('Didnt got the sendgrid_api_key')
```

---

## 3. Gemini Model Setup

- Uses OpenAI-compatible AsyncOpenAI client, pointing to Gemini API.
- Initializes a model for generating sales emails.

```python
GEMINI_BASE_URL = "https://generativelanguage.googleapis.com/v1beta/openai/"
gemini_client = AsyncOpenAI(base_url=GEMINI_BASE_URL, api_key=google_api_key)
gemini_model = OpenAIChatCompletionsModel(model="gemini-2.5-flash-preview-05-20", openai_client=gemini_client)
```

---

## 4. Agent Instructions

Three agents are defined with different personalities:
- **Professional**: Formal and serious
- **Engaging**: Witty and attention-grabbing
- **Busy**: Concise and direct

```python
instructions1 = "You are a sales agent ... professional, serious cold emails."
instructions2 = "You are a humorous, engaging sales agent ... witty, engaging cold emails."
instructions3 = "You are a busy sales agent ... concise, to the point cold emails."

sales_agent1 = Agent(name="Professional Sales Agent", instructions=instructions1, model=gemini_model)
sales_agent2 = Agent(name="Engaging Sales Agent", instructions=instructions2, model=gemini_model)
sales_agent3 = Agent(name="Busy Sales Agent", instructions=instructions3, model=gemini_model)
```

---

## 5. Generating and Streaming Responses

- **Streaming Example**: Streams output for a single agent.
- **Parallel Execution**: Uses `asyncio.gather` to get responses from all three agents simultaneously.

```python
result = Runner.run_streamed(sales_agent1, input="Write a cold sales email")
async for event in result.stream_events():
    if event.type == "raw_response_event" and isinstance(event.data, ResponseTextDeltaEvent):
        print(event.data.delta, end="", flush=True)

# Run all agents in parallel and print their outputs
with trace("Parallel cold emails"):
    results = await asyncio.gather(
        Runner.run(sales_agent1, message),
        Runner.run(sales_agent2, message),
        Runner.run(sales_agent3, message),
    )

outputs = [result.final_output for result in results]
for output in outputs:
    print(output + "\n\n")
```

---

## 6. Summary

- The notebook automates the creation of cold sales emails using different agent personalities.
- It demonstrates integration with both SendGrid and Gemini AI for a full sales outreach workflow.

---
