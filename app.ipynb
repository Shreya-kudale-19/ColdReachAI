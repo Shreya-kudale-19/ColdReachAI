{
 "cells": [
  {
   "cell_type": "markdown",
   "metadata": {},
   "source": [
    "## Before we start - some setup:\n",
    "\n",
    "- Please visit Sendgrid at: https://sendgrid.com/\n",
    "- Please set up an account - it's free! (at least, for me, right now).\n",
    "- Once you've created an account, click on:\n",
    "  - Settings (left sidebar) >> API Keys >> Create API Key (button on top right)\n",
    "  - Copy the key to the clipboard, then add a new line to your .env file:\n",
    "    `SENDGRID_API_KEY=xxxx`\n",
    "  - And also, within SendGrid, go to:\n",
    "    - Settings (left sidebar) >> Sender Authentication >> \"Verify a Single Sender\"\n",
    "    - and verify that your own email address is a real email address, so that SendGrid can send emails for you."
   ]
  },
  {
   "cell_type": "code",
   "metadata": {},
   "source": [
    "from dotenv import load_dotenv\n",
    "from agents import Agent, Runner, trace, function_tool, OpenAIChatCompletionsModel\n",
    "from openai.types.responses import ResponseTextDeltaEvent\n",
    "from openai import AsyncOpenAI\n",
    "from typing import Dict\n",
    "import sendgrid\n",
    "import os\n",
    "from sendgrid.helpers.mail import Mail, Email, To, Content\n",
    "import asyncio"
   ],
   "outputs": [],
   "execution_count": null
  },
  {
   "cell_type": "code",
   "metadata": {},
   "source": [
    "load_dotenv(override=True)\n",
    "sendgrid_api_key= os.getenv(\"SENDGRID_API_KEY\")\n",
    "\n",
    "if sendgrid_api_key:\n",
    "    print(\"got the sendgrid_api_key\")\n",
    "else:\n",
    "    print('Didnt got the sendgrid_api_key')"
   ],
   "outputs": [],
   "execution_count": null
  },
  {
   "cell_type": "markdown",
   "metadata": {},
   "source": [
    "### Additional imports and Gemini support"
   ]
  },
  {
   "cell_type": "code",
   "metadata": {},
   "source": [
    "# Setup for Gemini API\n",
    "load_dotenv(override=True)\n",
    "\n",
    "# Get your Google API key from environment variables\n",
    "google_api_key = os.getenv('GOOGLE_API_KEY')\n",
    "if not google_api_key:\n",
    "    print(\"Please set GOOGLE_API_KEY in your .env file\")\n",
    "else:\n",
    "    print(\"Google API key found\")\n",
    "\n",
    "# Set up Gemini client\n",
    "GEMINI_BASE_URL = \"https://generativelanguage.googleapis.com/v1beta/openai/\"\n",
    "gemini_client = AsyncOpenAI(base_url=GEMINI_BASE_URL, api_key=google_api_key)\n",
    "gemini_model = OpenAIChatCompletionsModel(model=\"gemini-2.5-flash-preview-05-20\", openai_client=gemini_client)"
   ],
   "outputs": [],
   "execution_count": null
  },
  {
   "cell_type": "markdown",
   "metadata": {},
   "source": [
    "### Instructions to feed the AI model"
   ]
  },
  {
   "cell_type": "code",
   "metadata": {},
   "source": [
    "instructions1 = \"You are a sales agent working for ComplAI, \\\\n\",\n",
    "    \"a company that provides a SaaS tool for ensuring SOC2 compliance and preparing for audits, powered by AI. \\\\n\",\n",
    "    \"You write professional, serious cold emails.\"\n",
    "\n",
    "instructions2 = \"You are a humorous, engaging sales agent working for ComplAI, \\\\n\",\n",
    "    \"a company that provides a SaaS tool for ensuring SOC2 compliance and preparing for audits, powered by AI. \\\\n\",\n",
    "    \"You write witty, engaging cold emails that are likely to get a response.\"\n",
    "\n",
    "instructions3 = \"You are a busy sales agent working for ComplAI, \\\\n\",\n",
    "    \"a company that provides a SaaS tool for ensuring SOC2 compliance and preparing for audits, powered by AI. \\\\n\",\n",
    "    \"You write concise, to the point cold emails.\""
   ],
   "outputs": [],
   "execution_count": null
  },
  {
   "cell_type": "markdown",
   "metadata": {},
   "source": [
    "### Agent definition"
   ]
  },
  {
   "cell_type": "code",
   "metadata": {},
   "source": [
    "sales_agent1 = Agent(\n",
    "    name=\"Professional Sales Agent\",\n",
    "    instructions=instructions1,\n",
    "    model=gemini_model\n",
    ")\n",
    "\n",
    "sales_agent2 = Agent(\n",
    "    name=\"Engaging Sales Agent\",\n",
    "    instructions=instructions2,\n",
    "    model=gemini_model\n",
    ")\n",
    "\n",
    "sales_agent3 = Agent(\n",
    "    name=\"Busy Sales Agent\",\n",
    "    instructions=instructions3,\n",
    "    model=gemini_model\n",
    ")"
   ],
   "outputs": [],
   "execution_count": null
  },
  {
   "cell_type": "markdown",
   "metadata": {},
   "source": [
    "### Streaming a single agent response"
   ]
  },
  {
   "cell_type": "code",
   "metadata": {},
   "source": [
    "result = Runner.run_streamed(sales_agent1, input=\"Write a cold sales email\")\n",
    "async for event in result.stream_events():\n",
    "    if event.type == \"raw_response_event\" and isinstance(event.data, ResponseTextDeltaEvent):\n",
    "        print(event.data.delta, end=\"\", flush=True)"
   ],
   "outputs": [],
   "execution_count": null
  },
  {
   "cell_type": "markdown",
   "metadata": {},
   "source": [
    "### Running all agents in parallel"
   ]
  },
  {
   "cell_type": "code",
   "metadata": {},
   "source": [
    "message = \"Write a cold sales email\"\n",
    "# Asyncio -> a library to write concurrent code using the async/await syntax\n",
    "# asyncio is used to run all the three tasks at the same time \n",
    "# Remember: it is not multi-threading or multiprocessing \n",
    "# It is using an event loop, which will run each one, \n",
    "# and whenever it's pausing for waiting for any input/output then it will let another one run.\n",
    "\n",
    "with trace(\"Parallel cold emails\"):\n",
    "    results = await asyncio.gather(\n",
    "        Runner.run(sales_agent1, message),\n",
    "        Runner.run(sales_agent2, message),\n",
    "        Runner.run(sales_agent3, message),\n",
    "    )\n",
    "\n",
    "outputs = [result.final_output for result in results]\n",
    "\n",
    "for output in outputs:\n",
    "    print(output + \"\\n\\n\")"
   ],
   "outputs": [],
   "execution_count": null
  }
 ],
 "metadata": {
  "kernelspec": {
   "display_name": "Python 3",
   "language": "python",
   "name": "python3"
  },
  "language_info": {
   "name": "python"
  }
 },
 "nbformat": 4,
 "nbformat_minor": 5
}
